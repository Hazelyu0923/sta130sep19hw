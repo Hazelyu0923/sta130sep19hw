{
 "cells": [
  {
   "cell_type": "markdown",
   "id": "ab377995",
   "metadata": {},
   "source": [
    "#### 1. Begin (or restart) part \"3(a)\" of the **TUT Demo** and interact with a ChatBot to make sure you understand how each part the Monte Hall problem code above works<br>\n"
   ]
  },
  {
   "cell_type": "code",
   "execution_count": 2,
   "id": "b0c291c7",
   "metadata": {},
   "outputs": [
    {
     "data": {
      "text/plain": [
       "1e-05"
      ]
     },
     "execution_count": 2,
     "metadata": {},
     "output_type": "execute_result"
    }
   ],
   "source": [
    "# Initialization\n",
    "import numpy as np\n",
    "all_door_options = (1,2,3)  # The tuple containing three possible door,1,2,3.\n",
    "my_door_choice = 1  # initially pick door 1\n",
    "i_won = 0  # The count of wining time(choose the car).At the begining,there is always 0 time. \n",
    "reps = 100000  # The number of simulations in this section will run 100,000 times.\n",
    "\n",
    "# Looping through the Simulation\n",
    "for i in range(reps):\n",
    "    secret_winning_door = np.random.choice(all_door_options)\n",
    "    # The simulation is repeated reps times.Each time,the car will randomly replace in door(1,2,3) using np.random.choice\n",
    "    \n",
    "# Removing the Car and Player's Choice from the Remaining Options\n",
    "all_door_options_list = list(all_door_options)  # convert tuple to list to modify\n",
    "all_door_options_list.remove(secret_winning_door) # remove the door hiding the car\n",
    "try:\n",
    "    all_door_options_list.remove(my_door_choice)# Attempts to remove your initial door choice from the list. \n",
    "except:\n",
    "    pass\n",
    "\n",
    "# Revealing a Goat Door\n",
    "goat_door_reveal = np.random.choice(all_door_options_list) # a door that hides the goat\n",
    "all_door_options_list.remove(goat_door_reveal) # remove the goat-revealing door from the remaining options.\n",
    "\n",
    "# Simulating the Switch Strategy\n",
    "if secret_winning_door != my_door_choice: # If the car isn't behind the chosen door, put the car door back into the list.\n",
    "    all_door_options_list.append(secret_winning_door)#  contains only the door you will switch to\n",
    "    \n",
    "# Switching and Checking if You Won   \n",
    "my_door_choice = all_door_options_list[0]  # switch to the remaining door\n",
    "if my_door_choice == secret_winning_door:\n",
    "    i_won += 1  # increment win counter if you chose the correct door\n",
    "i_won/reps  # calculate the probability of winning by switching\n"
   ]
  },
  {
   "cell_type": "markdown",
   "id": "680d19cc",
   "metadata": {},
   "source": [
    "#### 2. Extend your ChatBot sessions to now address part \"3(b)\" of the **TUT Demo** and interact with your ChatBot to see if it can suggest a simpler, more streamlined way to code up this *for* loop simulation so the process is more clear and easier to understand; then, describe any preferences you have in terms of readibility or explainability  between the original code and the code improvements suggested by the ChatBot<br>\n"
   ]
  },
  {
   "cell_type": "code",
   "execution_count": null,
   "id": "6f2ec4ed",
   "metadata": {},
   "outputs": [],
   "source": [
    "I prefer the one provided by the Chatgpt.It's obviously that the second code has fewer steps and simple logic step.\n",
    "The orignal code checks whether the winning door is chosen and has multiple-step of removal while the second code chooses the winning door frist and directly filters the door where Monte hiding the goat. \n",
    "Not only that,the original version involves muti-swtiching steps which will obscure the purpoes"
   ]
  },
  {
   "cell_type": "markdown",
   "id": "f18d1e60",
   "metadata": {},
   "source": [
    "#### 3. Submit your preferred version of the Monty Hall problem that is verified to be running and working with a final printed output of the code; then, add code comments explaining the purpose of each line of the code<br>\n"
   ]
  },
  {
   "cell_type": "code",
   "execution_count": 9,
   "id": "8ff2236e",
   "metadata": {
    "scrolled": true
   },
   "outputs": [
    {
     "name": "stdout",
     "output_type": "stream",
     "text": [
      "Probability of winning by switching: 0.66814\n"
     ]
    }
   ],
   "source": [
    "import numpy as np\n",
    "\n",
    "all_doors = [1, 2, 3]  # The three doors\n",
    "wins = 0  # Counter for wins\n",
    "reps = 100000  # Number of simulations\n",
    "\n",
    "for _ in range(reps):\n",
    "    winning_door = np.random.choice(all_doors)  # Randomly choose the winning door\n",
    "    player_choice = np.random.choice(all_doors)  # Player picks a random door\n",
    "\n",
    "    # Host opens a door that has a goat (not the winning door, and not the player's choice)\n",
    "    remaining_doors = [door for door in all_doors if door != player_choice and door != winning_door]\n",
    "    host_reveal = np.random.choice(remaining_doors)\n",
    "\n",
    "    # The player switches to the remaining unopened door\n",
    "    remaining_doors = [door for door in all_doors if door != player_choice and door != host_reveal]\n",
    "    player_choice = remaining_doors[0]  # Switch to the remaining door\n",
    "\n",
    "    # Check if the player wins by switching\n",
    "    if player_choice == winning_door:\n",
    "        wins += 1\n",
    "\n",
    "# Calculate the probability of winning by switching\n",
    "win_probability = wins / reps\n",
    "print(f\"Probability of winning by switching: {win_probability}\")"
   ]
  },
  {
   "cell_type": "code",
   "execution_count": null,
   "id": "4d417324",
   "metadata": {},
   "outputs": [],
   "source": [
    "https://chatgpt.com/share/66e8e04f-6cf8-8006-8a37-586b03ee262e"
   ]
  },
  {
   "cell_type": "markdown",
   "id": "066bb013",
   "metadata": {},
   "source": [
    "#### 4. Watch the embedded video tutorial on Markov chains in the next Jupyter cell below to understand their application and relevance for ChatBots; then, after watching the video, start a new ChatBot session by prompting that you have code that creates a \"Markovian ChatBot\"; show it the first version of the \"Markovian ChatBot code\" below; and interact with the ChatBot session to make sure you understand how the original first version of the \"Markovian ChatBot code\" works<br>\n"
   ]
  },
  {
   "cell_type": "code",
   "execution_count": null,
   "id": "750b5a82",
   "metadata": {},
   "outputs": [],
   "source": [
    "https://chatgpt.com/share/66e8f6f4-8004-8006-bfea-fddd469923f0"
   ]
  },
  {
   "cell_type": "markdown",
   "id": "273d7f05",
   "metadata": {},
   "source": [
    "#### 5. Recreate (or resume) the previous ChatBot session from question \"4\" above, and now  prompt the ChatBot session that you have a couple extensions of the code to show it, and then show it each of the extentions of the \"Markovian ChatBot code\" below in turn\n",
    "\n",
    "\n",
    "\n",
    "1. Without just supplying your ChatBot session with the answers, see if the ChatBot can figure out what the extensions in the code do; namely, making character specific Markov chains, and using bigrams (rather than just the previous word alone) dependency... prompt your ChatBot session with some hints if it's not seeming to \"get it\"<br><br>\n",
    "    \n",
    "2. Interact with your ChatBot session to have it explain details of the code wherever you need help understanding what the code is doing and how it works<br><br>\n",
    "    \n",
    "3. Start yet another new ChatBot session and first show the ChatBot the original \"Markovian ChatBot code\" below, and then tell ChatBot that you have an extension but this time just directly provide it the more complicated final extension without ever providing the intermediate extension code to the ChatBot session and see if it's still able to understand everything extension does; namely, making character specific Markov chains, and using bigrams (rather than just the previous word alone) dependency... prompt the ChatBot with some hints if it's not seeming to understand what you're getting at...<br><br>\n",
    "    "
   ]
  },
  {
   "cell_type": "code",
   "execution_count": null,
   "id": "be800959",
   "metadata": {},
   "outputs": [],
   "source": [
    "#1.the extensions in the code \n",
    "import random\n",
    "import string\n",
    "from collections import defaultdict\n",
    "\n",
    "class MarkovChainChatbot:\n",
    "    def __init__(self):\n",
    "        self.model = defaultdict(list)\n",
    "\n",
    "    def train(self, text):\n",
    "        # Removing punctuation from the text (except for sentence-ending punctuation)\n",
    "        translator = str.maketrans('', '', string.punctuation.replace('.', '').replace('?', '').replace('!', ''))\n",
    "        words = text.translate(translator).split()\n",
    "\n",
    "        # Adding sentence-ending tokens\n",
    "        for i in range(len(words) - 1):\n",
    "            self.model[words[i]].append(words[i + 1])\n",
    "        self.model[words[-1]].append('<END>')\n",
    "\n",
    "    def generate_sentence(self, start_word, max_length=20):\n",
    "        current_word = start_word\n",
    "        sentence = [current_word]\n",
    "\n",
    "        for _ in range(max_length):\n",
    "            if current_word not in self.model or current_word == '<END>':\n",
    "                break\n",
    "            next_word = random.choice(self.model[current_word])\n",
    "            sentence.append(next_word)\n",
    "            current_word = next_word\n",
    "\n",
    "        return ' '.join(sentence)\n",
    "\n",
    "    def generate_random_sentence(self, max_length=20):\n",
    "        start_word = random.choice(list(self.model.keys()))\n",
    "        return self.generate_sentence(start_word, max_length)\n",
    "\n",
    "    def generate_paragraph(self, sentence_count=3):\n",
    "        paragraph = []\n",
    "        for _ in range(sentence_count):\n",
    "            start_word = random.choice(list(self.model.keys()))\n",
    "            paragraph.append(self.generate_sentence(start_word))\n",
    "        return ' '.join(paragraph)\n",
    "\n",
    "# Example usage\n",
    "chatbot = MarkovChainChatbot()\n",
    "text = \"Hello, how are you? I am a chatbot. I can chat with you. How can I help you today?\"\n",
    "chatbot.train(text)\n",
    "\n",
    "# Generate random sentence\n",
    "response = chatbot.generate_random_sentence()\n",
    "print(response)\n",
    "\n",
    "# Generate paragraph\n",
    "paragraph = chatbot.generate_paragraph()\n",
    "print(paragraph)\n"
   ]
  },
  {
   "cell_type": "code",
   "execution_count": null,
   "id": "062b58b5",
   "metadata": {},
   "outputs": [],
   "source": [
    "#Code for Combined Character and Bigram Markov Ch\n",
    "import random\n",
    "import string\n",
    "from collections import defaultdict\n",
    "\n",
    "class CombinedMarkovChainChatbot:\n",
    "    def __init__(self):\n",
    "        self.character_model = defaultdict(list)\n",
    "        self.bigram_model = defaultdict(list)\n",
    "\n",
    "    # Train the chatbot on both character and bigram levels\n",
    "    def train(self, text):\n",
    "        # Clean up the text by removing unwanted punctuation except sentence-ending ones\n",
    "        translator = str.maketrans('', '', string.punctuation.replace('.', '').replace('?', '').replace('!', ''))\n",
    "        cleaned_text = text.translate(translator)\n",
    "        \n",
    "        # Train character-level Markov chain\n",
    "        for i in range(len(cleaned_text) - 1):\n",
    "            self.character_model[cleaned_text[i]].append(cleaned_text[i + 1])\n",
    "\n",
    "        # Split into words for bigram model\n",
    "        words = cleaned_text.split()\n",
    "        \n",
    "        # Train bigram-level Markov chain\n",
    "        for i in range(len(words) - 2):\n",
    "            bigram = (words[i], words[i + 1])\n",
    "            self.bigram_model[bigram].append(words[i + 2])\n",
    "\n",
    "    # Generate text at the character level\n",
    "    def generate_text_by_characters(self, start_char, max_length=100):\n",
    "        current_char = start_char\n",
    "        generated_text = [current_char]\n",
    "\n",
    "        for _ in range(max_length):\n",
    "            if current_char not in self.character_model:\n",
    "                break\n",
    "            next_char = random.choice(self.character_model[current_char])\n",
    "            generated_text.append(next_char)\n",
    "            current_char = next_char\n",
    "\n",
    "        return ''.join(generated_text)\n",
    "\n",
    "    # Generate text at the bigram level\n",
    "    def generate_text_by_bigrams(self, start_bigram, max_length=20):\n",
    "        current_bigram = start_bigram\n",
    "        sentence = list(current_bigram)  # Start with the bigram (two words)\n",
    "\n",
    "        for _ in range(max_length - 2):  # Already have two words in the sentence\n",
    "            if current_bigram not in self.bigram_model:\n",
    "                break\n",
    "            next_word = random.choice(self.bigram_model[current_bigram])\n",
    "            sentence.append(next_word)\n",
    "            current_bigram = (current_bigram[1], next_word)  # Shift the bigram window\n",
    "\n",
    "        return ' '.join(sentence)\n",
    "\n",
    "# Example usage\n",
    "combined_bot = CombinedMarkovChainChatbot()\n",
    "\n",
    "# Sample training text\n",
    "text = \"Hello, how are you? I am a chatbot. I can chat with you. How can I help you today?\"\n",
    "\n",
    "# Train both models\n",
    "combined_bot.train(text)\n",
    "\n",
    "# Generate text using the character model\n",
    "character_response = combined_bot.generate_text_by_characters('H', max_length=50)\n",
    "print(\"Character-level generation:\\n\", character_response)\n",
    "\n",
    "# Generate text using the bigram model\n",
    "bigram_response = combined_bot.generate_text_by_bigrams(('Hello', 'how'))\n",
    "print(\"\\nBigram-level generation:\\n\", bigram_response)\n"
   ]
  },
  {
   "cell_type": "code",
   "execution_count": null,
   "id": "0015971d",
   "metadata": {},
   "outputs": [],
   "source": [
    "#2.\n",
    "https://chatgpt.com/share/66e98b77-071c-8006-9c5e-01a2bcb16618"
   ]
  },
  {
   "cell_type": "code",
   "execution_count": null,
   "id": "04f068ad",
   "metadata": {},
   "outputs": [],
   "source": [
    "#3.\n",
    "https://chatgpt.com/share/66e98b37-cdf0-8006-a98a-83ef20b0dc8b"
   ]
  },
  {
   "cell_type": "markdown",
   "id": "b7d3950a",
   "metadata": {},
   "source": [
    "#### 6. Report on your experience interacting with ChatBots to understand the Monte Hall problem and \"Markovian ChatBot\" code\n",
    "\n",
    "1. Discuss how quickly the ChatBot was able to be helpful for each of the above questions, and if so, how?<br><br>\n",
    "    \n",
    "2. Discuss whether or not interacting with ChatBot to try to figure things out was frustrating or unhelpful, and if so, how?<br><br>\n",
    "    \n",
    "3. Based on your experiences to date (e.g., including using ChatBots to troubleshoot coding errors in the previous homework), provide an overall assessment evaluating the usefulness of ChatBots as tools to help you understand code<br>"
   ]
  },
  {
   "cell_type": "code",
   "execution_count": null,
   "id": "4f06e5d0",
   "metadata": {},
   "outputs": [],
   "source": [
    "#1.\n",
    "When I chat with the chatbot, he is always quick to answer my questions, not only that, but also shows me the extended version of the code that solves the Monte Hell problem and explains to me what each line of code does.\n",
    "When I wasn't sure what a line of code meant, he would break down the equations used and tell me the definitions of those equations."
   ]
  },
  {
   "cell_type": "code",
   "execution_count": null,
   "id": "6fd324c0",
   "metadata": {},
   "outputs": [],
   "source": [
    "#2.\n",
    "I didn't find it unhelpful; on the contrary, chatbot had quite a few positive effects on me. I have not experienced any chatbot errors so far. My only complaint is that the number of free trials per day in chatgpt's 4o mode is so low that it takes me a lot of time to reopen a new dialog box and re-write the code."
   ]
  },
  {
   "cell_type": "code",
   "execution_count": null,
   "id": "4af919dc",
   "metadata": {},
   "outputs": [],
   "source": [
    "#3.\n",
    "I think chatbot's ability to troubleshoot code errors is still very strong. My python skills are not very strong and I can make mistakes in many unexpected places, and chatgpt can tell me what is wrong and why it is wrong. This can exercise my self-study ability."
   ]
  },
  {
   "cell_type": "markdown",
   "id": "d0ce9b91",
   "metadata": {},
   "source": [
    "#### 7. Reflect on your experience interacting with ChatBot and describe how your perception of AI-driven assistance tools in the context of learning coding, statistics, and data science has been evolving (or not) since joining the course<br><br>\n"
   ]
  },
  {
   "cell_type": "code",
   "execution_count": null,
   "id": "b848bfb9",
   "metadata": {},
   "outputs": [],
   "source": [
    "When I chat with chatgpt, I find the power of chatgpt. At first, I thought that artificial intelligence was more instrumental and could assist people to check leaks and fill gaps. But I underestimated the strength of its search and overestimated accuracy. \n",
    "When I don't understand any subject, I no longer need to ask the teacher, I can simply ask the chatbot to understand the concept. But there are some questions that chatbot does not understand accurately, and the correctness of the answers cannot be ascertained. \n",
    "Although the disadvantages are obvious, I still think chatbots can replace some human jobs, although this is not expected by society."
   ]
  },
  {
   "cell_type": "markdown",
   "id": "bd6aec1c",
   "metadata": {},
   "source": [
    "#### 8. ChatBots consume text data available on the web or platforms, and thus represents a new way to \"search consensensus\" that condenses and summarizes mainstream human thought<br><br>\n",
    "\n",
    "1. Start a new ChatBot session and discuss the relevance of learning and adaptability, communication, coding, and statistics and data analysis as skills in the modern world, especially with respect to career opportunities (particularly in the context of the data science industry)<br><br>\n",
    "    \n",
    "2. See if ChatBot thinks you could be a statistician or data scientist without coding or doing data analysis, and then transition your ChatBot conversation into a career exploration discussion, using the ChatBot to identify the skills that might be the most valuable for a career that you're interested<br><br>\n",
    "    \n",
    "3. Ask for a summary of this ChatBot session and paste it into your homework notebook (including link(s) to chat log histories if you're using ChatBot)<br><br>\n",
    "    \n",
    "4. Paraphrase the assessments and conclusions of your conversation in the form of a reflection on your current thoughts regarding your potential future career(s) and how you can go about building the skills you need to pursue it<br><br>\n",
    "\n",
    "5. Give your thoughts regarding the helpfulness or limitations of your conversation with a ChatBot, and describe the next steps you would take to pursue this conversation further if you felt the information the ChatBot provides was somewhat high level and general, and perhaps lacked the depth and detailed knowledge of a dedicated subject matter expert who had really take the time to understand the ins and outs of the industry and career path in question.\n",
    "<br><br>\n"
   ]
  },
  {
   "cell_type": "code",
   "execution_count": null,
   "id": "905bb9b2",
   "metadata": {},
   "outputs": [],
   "source": [
    "#3.Here’s a summary of our discussion:\n",
    "\n",
    "Modern Career Skills: We discussed the importance of skills like learning adaptability, communication, coding, and data analysis in today’s job market. These skills are valuable across various industries and help individuals thrive in dynamic work environments.\n",
    "\n",
    "Pursuing Mathematics or Data Science: You asked if it's possible to become a statistician or data scientist without coding or data analysis. I explained that coding and data analysis are core components of these fields. While alternative roles like consulting or project management in these areas may not require as much technical work, a foundational understanding of coding and data analysis is still necessary.\n",
    "\n",
    "Becoming a Mathematician: I outlined the path to becoming a mathematician, including the importance of education (bachelor’s, master’s, and Ph.D.), problem-solving, and research skills. Specializations in pure or applied mathematics offer different career opportunities.\n",
    "\n",
    "Pursuing Passion vs. Financial Gain: We explored the idea of whether to follow your passion for mathematics even if you feel less talented or consider a more financially rewarding career. I suggested balancing both by looking into applied math fields (like data science or finance) where math skills are both valuable and lucrative. Passion and persistence can often overcome a lack of initial talent in math.\n",
    "\n",
    "Skills Needed to Be a Mathematician: We discussed the essential skills to be a mathematician, including problem-solving, logical thinking, proof-writing, computational skills, attention to detail, communication, critical thinking, curiosity, and time management.\n",
    "\n",
    "The conversation emphasized the value of pursuing your passion while also being strategic about career opportunities and growth.\n"
   ]
  },
  {
   "cell_type": "code",
   "execution_count": null,
   "id": "50a53aa9",
   "metadata": {},
   "outputs": [],
   "source": [
    "https://chatgpt.com/share/66ea1723-8ce0-8006-95bf-66a4ac52a8e6"
   ]
  },
  {
   "cell_type": "code",
   "execution_count": null,
   "id": "183fec7f",
   "metadata": {},
   "outputs": [],
   "source": [
    "#4.\n",
    "If I want to become a mathematician, I must first complete the university, master's degree, doctor's degree, and master a certain knowledge reserve. \n",
    "Not only that, I also need to practice my critical thinking, calculation skills, communication skills and proof ability. \n",
    "In addition, to become a mathematician, I need to master certain coding and data analysis foundation, so that I can better use mathematical software for data analysis.\n"
   ]
  },
  {
   "cell_type": "code",
   "execution_count": null,
   "id": "39c0c8dc",
   "metadata": {},
   "outputs": [],
   "source": [
    "#5.\n",
    "I think the information provided by chatbot is somewhat general, as almost all high-knowledge jobs require these abilities and academic qualifications. \n",
    "He lacks a detailed description of what it means to be a mathematician. If someone has a detailed understanding of this aspect, I will ask him which programs he took in college to obtain a certain background in mathematics, which schools he should apply to when applying for graduate school, and which schools have the best professors."
   ]
  },
  {
   "cell_type": "markdown",
   "id": "77039655",
   "metadata": {},
   "source": [
    "#### 9. Have you reviewed the course [wiki-textbook](https://github.com/pointOfive/stat130chat130/wiki) and interacted with a ChatBot (or, if that wasn't sufficient, real people in the course piazza discussion board or TA office hours) to help you understand all the material in the tutorial and lecture that you didn't quite follow when you first saw it?<br><br>\n",
    "  "
   ]
  },
  {
   "cell_type": "code",
   "execution_count": null,
   "id": "f0b35c6f",
   "metadata": {},
   "outputs": [],
   "source": [
    "Yes."
   ]
  }
 ],
 "metadata": {
  "kernelspec": {
   "display_name": "Python 3 (ipykernel)",
   "language": "python",
   "name": "python3"
  },
  "language_info": {
   "codemirror_mode": {
    "name": "ipython",
    "version": 3
   },
   "file_extension": ".py",
   "mimetype": "text/x-python",
   "name": "python",
   "nbconvert_exporter": "python",
   "pygments_lexer": "ipython3",
   "version": "3.11.6"
  }
 },
 "nbformat": 4,
 "nbformat_minor": 5
}
